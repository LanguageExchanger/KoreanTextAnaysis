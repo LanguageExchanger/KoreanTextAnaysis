{
  "nbformat": 4,
  "nbformat_minor": 0,
  "metadata": {
    "colab": {
      "provenance": [],
      "authorship_tag": "ABX9TyNyCho6uwb9a/KnVN3GLM++",
      "include_colab_link": true
    },
    "kernelspec": {
      "name": "python3",
      "display_name": "Python 3"
    },
    "language_info": {
      "name": "python"
    }
  },
  "cells": [
    {
      "cell_type": "markdown",
      "metadata": {
        "id": "view-in-github",
        "colab_type": "text"
      },
      "source": [
        "<a href=\"https://colab.research.google.com/github/LanguageExchanger/KoreanTextAnaysis/blob/main/%EB%A7%9E%EC%B6%A4%EB%B2%95_%EA%B2%80%EC%82%AC_Naver_API_%ED%99%9C%EC%9A%A9.ipynb\" target=\"_parent\"><img src=\"https://colab.research.google.com/assets/colab-badge.svg\" alt=\"Open In Colab\"/></a>"
      ]
    },
    {
      "cell_type": "code",
      "execution_count": 1,
      "metadata": {
        "id": "a5hLoCr2RM2o"
      },
      "outputs": [],
      "source": [
        "# 네이버 맞춤법 검사기를 api로 불러서 결과를 확인함. 300자 제한 존재.\n",
        "# 참고 사이트 : https://seokbong.tistory.com/223\n",
        "import requests\n",
        "import json\n",
        "import re\n",
        "\n",
        "def naver_spell_check(text):\n",
        "    url = \"https://m.search.naver.com/p/csearch/ocontent/util/SpellerProxy\"\n",
        "    params = {\n",
        "        \"passportKey\": \"c9a2c043b06f9a113603bccb0486edbe0c2b223f\",  # 유효한 키여야 함\n",
        "        \"_callback\": \"jQuery112409213207582170865_1747710059385\",\n",
        "        \"q\": text,\n",
        "        \"where\": \"nexearch\",\n",
        "        \"color_blindness\": 0,\n",
        "        \"_\": \"1747710059386\"\n",
        "    }\n",
        "\n",
        "    response = requests.get(url, params=params)\n",
        "\n",
        "    # JSONP 형식이므로 정규식으로 JSON만 추출\n",
        "    match = re.search(r'\\((.*)\\)', response.text)\n",
        "    if not match:\n",
        "        raise ValueError(\"JSONP 응답을 파싱할 수 없습니다.\")\n",
        "\n",
        "    data = json.loads(match.group(1))\n",
        "\n",
        "    # 수정된 문장(html 형식 포함)\n",
        "    html = data['message']['result']['html']\n",
        "\n",
        "    # 태그 제거 후 깨끗한 텍스트로 반환\n",
        "    clean_text = re.sub(r'<.+?>', '', html)\n",
        "\n",
        "    return clean_text"
      ]
    },
    {
      "cell_type": "code",
      "source": [
        "text = '알파고 이전, 2015년부터 만들 어진 최초의AI 커뮤니티 모두의연구소.학연, 지연, 모두연이라는 말이나올만큼 AI의 보금자리로서 중요한 역할을 하고있는 모두의연구소에서 만들었습니다. AI기술을 커뮤니티로 배우는 유일 한 기관 아이펠과 함께 밝은 미래를 만들어보세요.'\n",
        "\n",
        "result = naver_spell_check(text)\n",
        "result"
      ],
      "metadata": {
        "colab": {
          "base_uri": "https://localhost:8080/",
          "height": 53
        },
        "id": "naKtYFF7RRcf",
        "outputId": "c1939c3d-48e7-426c-ce91-e868a36cbdfe"
      },
      "execution_count": 2,
      "outputs": [
        {
          "output_type": "execute_result",
          "data": {
            "text/plain": [
              "'알파고 이전, 2015년부터 만들어진 최초의 AI 커뮤니티 모두의 연구소. 학연, 지연, 모두 연이라는 말이 나올 만큼 AI의 보금자리로서 중요한 역할을 하고 있는 모두의 연구소에서 만들었습니다. AI 기술을 커뮤니티로 배우는 유일한 기관 아이펠과 함께 밝은 미래를 만들어보세요.'"
            ],
            "application/vnd.google.colaboratory.intrinsic+json": {
              "type": "string"
            }
          },
          "metadata": {},
          "execution_count": 2
        }
      ]
    }
  ]
}